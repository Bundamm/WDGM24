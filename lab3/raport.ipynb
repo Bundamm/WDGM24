{
 "cells": [
  {
   "cell_type": "code",
   "execution_count": 93,
   "metadata": {
    "ExecuteTime": {
     "end_time": "2024-10-20T20:29:00.898715Z",
     "start_time": "2024-10-20T20:29:00.856608Z"
    },
    "collapsed": true
   },
   "outputs": [],
   "source": [
    "from PIL import Image\n",
    "import numpy as np\n",
    "from random import randrange"
   ]
  },
  {
   "cell_type": "markdown",
   "metadata": {
    "collapsed": false
   },
   "source": [
    "Zadanie pierwsze:"
   ]
  },
  {
   "cell_type": "code",
   "execution_count": 94,
   "metadata": {
    "ExecuteTime": {
     "end_time": "2024-10-20T20:29:00.899598Z",
     "start_time": "2024-10-20T20:29:00.862843Z"
    },
    "collapsed": false
   },
   "outputs": [
    {
     "data": {
      "image/jpeg": "[encoded data removed]",
      "image/png": "[encoded data removed]",
      "text/plain": [
       "<PIL.Image.Image image mode=L size=300x200>"
      ]
     },
     "execution_count": 94,
     "metadata": {},
     "output_type": "execute_result"
    }
   ],
   "source": [
    "def rysuj_ramki_szare(w, h, grub):\n",
    "    tab = np.ones((h,w), dtype=np.uint8)\n",
    "    ile = min(h,w) // (grub * 2)\n",
    "    for i in range(0, ile):\n",
    "        kolor_ramki = randrange(0, 256)\n",
    "        top = i * grub\n",
    "        bottom = h - top\n",
    "        left = i * grub\n",
    "        right = w - left\n",
    "        tab[top:top + grub, left:right] = kolor_ramki\n",
    "        tab[bottom - grub:bottom, left:right] = kolor_ramki\n",
    "        tab[top:bottom, left:left + grub] = kolor_ramki\n",
    "        tab[top:bottom, right - grub:right] = kolor_ramki\n",
    "    return Image.fromarray(tab)\n",
    "\n",
    "ramki = rysuj_ramki_szare(300, 200, 5)\n",
    "ramki"
   ]
  },
  {
   "cell_type": "markdown",
   "metadata": {
    "collapsed": false
   },
   "source": [
    "![zdjęcie pierwsze](ramki_szare.png)\n",
    "<br>"
   ]
  },
  {
   "cell_type": "markdown",
   "metadata": {
    "collapsed": false
   },
   "source": [
    "Powyżej moje rozwiązanie części zadania pierwszego o szarych ramkach.\n",
    "Mój sposób rysowania ramek, to ciągle zbliżające się do środka paski z każdej strony, stąd zmienne left, right, top, bottom.\n",
    "O ile muszą się zmniejszyć i gdzie muszą się przesunąć pobieram ze zmiennej ile, którą mam z przykładowego kodu otrzymanego na zajęciach. Kolor ramki jest losowy za każdym przejściem w pętli generuje się inna losowa liczba z zakresu od 0 do 255 przez co każda kolejna ramka ma inny odcień szarości.\n",
    "Moje umieszczanie pasków polega na tym, że najpierw załóżmy na to zmienna top wyznacza pozycję pierwszego paska, w przypadku i = 0, to będzie tak, że top = 0 * 5, czyli top = 0. Następnie w pierwszej tab dzieje się następująca operacja: na wysokości od 0 do 0 + 5 = 5 rysowany jest pasek o wygenerowanej szarości. Analogiczna operacja dzieje się dla pozostałych pasków."
   ]
  },
  {
   "cell_type": "code",
   "execution_count": 95,
   "metadata": {
    "ExecuteTime": {
     "end_time": "2024-10-20T20:29:00.915314Z",
     "start_time": "2024-10-20T20:29:00.880192Z"
    },
    "collapsed": false
   },
   "outputs": [
    {
     "data": {
      "image/jpeg": "[encoded data removed]",
      "image/png": "[encoded data removed]",
      "text/plain": [
       "<PIL.Image.Image image mode=L size=300x200>"
      ]
     },
     "execution_count": 95,
     "metadata": {},
     "output_type": "execute_result"
    }
   ],
   "source": [
    "def rysuj_pasy_pionowe_szare(w, h, grub,zmiana):\n",
    "    t = (h, w)\n",
    "    tab = np.ones(t, dtype=np.uint8)\n",
    "    ile = int(w / grub)\n",
    "    for k in range(ile):\n",
    "        for g in range(grub):\n",
    "            i = k * grub + g\n",
    "            for j in range(h):\n",
    "                tab[j, i] = (k + zmiana) % 256\n",
    "    return Image.fromarray(tab)\n",
    "pasy_szare_pion = rysuj_pasy_pionowe_szare(300,200,5, 10)\n",
    "pasy_szare_pion"
   ]
  },
  {
   "cell_type": "markdown",
   "metadata": {
    "collapsed": false
   },
   "source": [
    "![pion_szare](pasy_pion_szare.png)\n",
    "<br>"
   ]
  },
  {
   "cell_type": "markdown",
   "metadata": {
    "collapsed": false
   },
   "source": [
    "Powyżej rozwiązanie rysowania pionowych szarych pasów. Jest to zmodyfikowany kod otrzymany na zajęciach, tak żeby generował pasy pionowe zamiast poziomych. Zmienna ile wyznacza ile pasów ma powstać w zależności od szerokości obrazu, w tym wypadku będzie to 300/5=60. Zmienna i oblicza ile \"pasków\" pixeli ma zostać narysowane, żeby pokryć wpisaną w funkcji grubość. Kolejna pętla za to ustawia już wartości pixeli na ustalone kolory."
   ]
  },
  {
   "cell_type": "markdown",
   "metadata": {
    "collapsed": false
   },
   "source": [
    "Zadanie drugie:"
   ]
  },
  {
   "cell_type": "code",
   "execution_count": 96,
   "metadata": {
    "ExecuteTime": {
     "end_time": "2024-10-20T20:29:01.515073Z",
     "start_time": "2024-10-20T20:29:00.896753Z"
    },
    "collapsed": false
   },
   "outputs": [
    {
     "data": {
      "image/jpeg": "[encoded data removed]",
      "image/png": "[encoded data removed]",
      "text/plain": [
       "<PIL.Image.Image image mode=L size=300x100>"
      ]
     },
     "execution_count": 96,
     "metadata": {},
     "output_type": "execute_result"
    }
   ],
   "source": [
    "def rysuj_ramki_kolorowe(w, kolor, zmiana_koloru_r, zmiana_koloru_g, zmiana_koloru_b):\n",
    "    t = (w, w, 3)\n",
    "    tab = np.zeros(t, dtype=np.uint8)\n",
    "    kolor_r = kolor[0]\n",
    "    kolor_g = kolor[1]\n",
    "    kolor_b = kolor[2]\n",
    "    z = w\n",
    "    for k in range(int(w / 2)):\n",
    "        for i in range(k, z - k):\n",
    "            for j in range(k, z - k):\n",
    "                tab[i, j] = [kolor_r, kolor_g, kolor_b]\n",
    "        kolor_r = (kolor_r - zmiana_koloru_r) % 256\n",
    "        kolor_g = (kolor_g - zmiana_koloru_g) % 256\n",
    "        kolor_b = (kolor_b - zmiana_koloru_b) % 256\n",
    "    return Image.fromarray(tab)\n",
    "\n",
    "def rysuj_po_skosie_szare(h,w, a, b):\n",
    "    t = (h, w)\n",
    "    tab = np.zeros(t, dtype=np.uint8)\n",
    "    for i in range(h):\n",
    "        for j in range(w):\n",
    "            tab[i, j] = (a*i + b*j) % 256\n",
    "    return Image.fromarray(tab)\n",
    "\n",
    "\n",
    "im_skos = rysuj_po_skosie_szare(100, 300, 6, 5)\n",
    "\n",
    "def negatyw(obraz):\n",
    "    tryb = obraz.mode\n",
    "    tab = np.asarray(obraz)\n",
    "    if tryb == '1':\n",
    "        tab_neg = 1-tab.astype(np.uint8)\n",
    "        return Image.fromarray(tab_neg * 255)\n",
    "    elif tryb == 'L' or tryb == 'RGB':\n",
    "        tab_neg = 255 - tab\n",
    "        return Image.fromarray(tab_neg)\n",
    "\n",
    "gwiazdka = Image.open(\"gwiazdka.bmp\")\n",
    "\n",
    "kolorowe = rysuj_ramki_kolorowe(200,[20,120,220],6, 5, -6)\n",
    "\n",
    "\n",
    "negatyw(kolorowe)\n",
    "negatyw(gwiazdka)\n",
    "negatyw(im_skos)\n",
    "#zakomentować pozostałe dwa jak chce się w jupyterze wyświetlic okreslony jeden"
   ]
  },
  {
   "cell_type": "markdown",
   "metadata": {
    "collapsed": false
   },
   "source": [
    "Kolorowe ramki przed wrzuceniem do funkcji negatyw:<br>\n",
    "![kolorowe ramki](ramki_kolorowe.png)"
   ]
  },
  {
   "cell_type": "markdown",
   "metadata": {
    "collapsed": false
   },
   "source": [
    "Kolorowe ramki po wrzuceniu do funkcji negatyw:<br>\n",
    "![kolorowe_ramki_negatyw](ramki_kolorowe_negatyw.png)"
   ]
  },
  {
   "cell_type": "markdown",
   "metadata": {
    "collapsed": false
   },
   "source": [
    "Gwiazdka przed wrzuceniem do funkcji negatyw:<br>\n",
    "![gwiazdka_przed_negatywem](gwiazdka.bmp)"
   ]
  },
  {
   "cell_type": "markdown",
   "metadata": {
    "collapsed": false
   },
   "source": [
    "Gwiazdka po wrzuceniu do funkcji negatyw:<br>\n",
    "![gwiazdka_po_negatywie](gwiazdka_negatyw.png)"
   ]
  },
  {
   "cell_type": "markdown",
   "metadata": {
    "collapsed": false
   },
   "source": [
    "Paski skośne przed negatywem:<br>\n",
    "![skośne paski przed negatywem](im_skos.png)"
   ]
  },
  {
   "cell_type": "markdown",
   "metadata": {
    "collapsed": false
   },
   "source": [
    "Paski skośne po negatywie:<br>\n",
    "![skośne paski po negatywie](im_skos_negatyw.png)"
   ]
  },
  {
   "cell_type": "markdown",
   "metadata": {
    "collapsed": false
   },
   "source": [
    "Funkcja negatyw sprawdza ifem tryb i na podstawie trybu odwraca w odpowiedni sposób kolory, jak jest tryb 1 odejmuje od 1 wartość każdej wartości w tablicy, a w L i RGB odejmuje od 255 wartości wszystkich wartości tablicy. Na końcu zwraca odwrócony obraz, w przypadku trybu 1 mnoży jeszcze razy 255, aby otrzymać odpowiednik w trybie uint8.\n",
    "\n",
    "Funkcje rysuj_po_skosie_szare i rysuj_ramki_kolorowe zostały udostępnione na zajęciach.\n",
    "\n",
    "rysuj_po_skosie_szare rysuje skośne linie zwiększając wartość w prawo w tablicy o 3 i o 1 w dół przez co powstaje szary \"skośny\" obraz za pomocą formuły z a i b.\n",
    "\n",
    "rysuj_ramki_kolorowe działa w ten sposób, że pętla pierwsza iteruje przez kolejne ramki, zaczynając od zewnętrznej i kończąc na wewnętrznej. Pętla k reprezentuje numer ramki, a także odległość od krawędzi. Pętle i i j wypełniają piksele aktualnej ramki wartościami koloru RGB. Po narysowaniu ramki, wartości każdego koloru się zmniejszają odejmowaniem i są dalej zmieniane przy pomocy operacji % 256(aby zapobiec przekroczeniu wartości 255 dla koloru używamy modulo żeby zawinąć)."
   ]
  },
  {
   "cell_type": "markdown",
   "metadata": {
    "collapsed": false
   },
   "source": [
    "Zadanie trzecie:"
   ]
  },
  {
   "cell_type": "markdown",
   "metadata": {
    "collapsed": false
   },
   "source": []
  },
  {
   "cell_type": "code",
   "execution_count": 97,
   "metadata": {
    "ExecuteTime": {
     "end_time": "2024-10-20T20:29:01.576261Z",
     "start_time": "2024-10-20T20:29:01.521048Z"
    },
    "collapsed": false
   },
   "outputs": [
    {
     "data": {
      "image/jpeg": "[encoded data removed]",
      "image/png": "[encoded data removed]",
      "text/plain": [
       "<PIL.Image.Image image mode=RGB size=100x50>"
      ]
     },
     "execution_count": 97,
     "metadata": {},
     "output_type": "execute_result"
    }
   ],
   "source": [
    "def koloruj_w_paski(obraz, grub, liczba_kolorow):\n",
    "    t_obraz = np.asarray(obraz)\n",
    "    h,w = t_obraz.shape\n",
    "    tab = np.ones((h,w,3),dtype=np.uint8) * 255\n",
    "    kolory = [[]] * liczba_kolorow\n",
    "    for l in range(liczba_kolorow):\n",
    "        kolory[l] = [randrange(0, 256), randrange(0, 256), randrange(0, 256)]\n",
    "    for i in range(h):\n",
    "        ile = len(kolory)\n",
    "        kolor = kolory[(i//grub) % ile]\n",
    "        for j in range(w):\n",
    "            if t_obraz[i,j] == False:\n",
    "                tab[i,j] = kolor\n",
    "    return Image.fromarray(tab, mode='RGB')\n",
    "obrazek = Image.open(\"inicjaly.bmp\")\n",
    "inicjaly_paski = koloruj_w_paski(obrazek, 5, 10)\n",
    "inicjaly_paski\n"
   ]
  },
  {
   "cell_type": "markdown",
   "metadata": {
    "collapsed": false
   },
   "source": [
    "Inicjały przed kolorowaniem:<br>\n",
    "![inicjały przed kolorowaniem](inicjaly.bmp)"
   ]
  },
  {
   "cell_type": "markdown",
   "metadata": {
    "collapsed": false
   },
   "source": [
    "Inicjały po kolorowaniu jako jpg:<br>\n",
    "![inicjaly jako jpg](inicjaly_kolorowe.jpg)"
   ]
  },
  {
   "cell_type": "markdown",
   "metadata": {
    "collapsed": false
   },
   "source": [
    "Inicjały po kolorowaniu jako png:<br>\n",
    "![inicjały_jako_png](inicjaly_kolorowe.png)"
   ]
  },
  {
   "cell_type": "markdown",
   "metadata": {
    "collapsed": false
   },
   "source": [
    "Powyższa funkcja koloruje tylko te części obrazu, które są czarne na oryginalnym obrazie(w trybie '1'). Moja wersja jest taka, że generuje za każdym razem wpisaną przez użytkownika ilość kolorów, które są losowo generowane w pierwszej pętli. Druga pętla najpierw wyznacza przez jaką grubość ma ona przechodzić za pomocą zmiennej kolor. np. kolor = kolory[(0//5) % 10], czyli pierwszy pasek będzie dzieki temu przez pierwsze pięc przejść pętli j kolorował tym samym kolorem dzięki modulo. W drugiej pętli sprawdzane jest też, czy kolor się zmieni ifem sprawdzającym czy dany pixel jest czarny.\n",
    "\n",
    "Otrzymane obrazy nie są takie same, png nie stosuje kompresji stratnej zatem obrazy posiadają oryginalne kolory i się nie odbarwiają i ogółem nie tracą na jakości tak jak jpg. Png wspiera także kanał alfa przez co przezroczyste obrazy zostają przezroczyste jak zostają w nim zapisane."
   ]
  },
  {
   "cell_type": "markdown",
   "metadata": {
    "collapsed": false
   },
   "source": [
    "Zadanie czwarte"
   ]
  },
  {
   "cell_type": "markdown",
   "metadata": {
    "collapsed": false
   },
   "source": [
    "Gdy wartość typu uint8 przekracza 255 lub jest ujemna zachodzi operacja modulo. Oznacza to, że wartości są \"owijane\" do zakresu 0-255, co w efekcie skutkuje:\n",
    "* Dla wartości większych niż 255: Wartość modulo 256 zostanie przypisana.\n",
    "* Dla wartości ujemnych: Modulo 256 zostanie obliczone z negatywnymi wartościami, co skutkuje wartością z zakresu 0-255.\n",
    "\n",
    "Dla przykładów:\n",
    "* Wartość 328: Przekracza ona 255. Aby uzyskać prawidłową wartość dla uint8, należy obliczyć 328 % 256, co daje 72. Zatem 328 jako uint8 zostanie zmapowane do wartości 72.\n",
    "* Wartość -24: -24 jest liczbą ujemną. W uint8 obliczamy wartość przez dodanie wielokrotności 256 do momentu uzyskania liczby dodatniej. Wynik to: -24%256=256-24=232 Zatem -24 jako uint8 zostanie zmapowane do wartości 232."
   ]
  }
 ],
 "metadata": {
  "kernelspec": {
   "display_name": "Python 3",
   "language": "python",
   "name": "python3"
  },
  "language_info": {
   "codemirror_mode": {
    "name": "ipython",
    "version": 2
   },
   "file_extension": ".py",
   "mimetype": "text/x-python",
   "name": "python",
   "nbconvert_exporter": "python",
   "pygments_lexer": "ipython2",
   "version": "2.7.6"
  }
 },
 "nbformat": 4,
 "nbformat_minor": 0
}
