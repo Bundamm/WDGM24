{
 "cells": [
  {
   "cell_type": "code",
   "execution_count": null,
   "metadata": {
    "collapsed": true,
    "is_executing": true
   },
   "outputs": [],
   "source": [
    "from PIL import Image\n",
    "from PIL import ImageDraw, ImageFont"
   ]
  },
  {
   "cell_type": "markdown",
   "source": [
    "Zad 1"
   ],
   "metadata": {
    "collapsed": false
   }
  },
  {
   "cell_type": "code",
   "execution_count": null,
   "outputs": [],
   "source": [
    "im1 = Image.open(\"olsztyn.jpg\").convert(\"RGB\")\n",
    "im2 = Image.open(\"messi.jpg\").convert(\"RGB\")\n",
    "\n",
    "if im1.size != im2.size:\n",
    "    im2 = im2.resize(im1.size)\n",
    "\n",
    "im_blend = Image.blend(im1,im2,alpha=0.6)\n",
    "\n",
    "im_blend.save(\"mieszany_obraz.jpg\")\n",
    "im_blend.show()"
   ],
   "metadata": {
    "collapsed": false
   }
  },
  {
   "cell_type": "markdown",
   "source": [],
   "metadata": {
    "collapsed": false
   }
  },
  {
   "cell_type": "markdown",
   "source": [
    "Zad 2 a)"
   ],
   "metadata": {
    "collapsed": false
   }
  },
  {
   "cell_type": "code",
   "execution_count": null,
   "outputs": [],
   "source": [
    "box = (50,50,200,200)\n",
    "fragment = im1.crop(box)\n",
    "\n",
    "im2_copy = im2.copy()\n",
    "im2_copy.paste(fragment,(100,100))\n",
    "im2_copy.save(\"wycinek_wklejony.jpg\")\n",
    "im2_copy.show()"
   ],
   "metadata": {
    "collapsed": false
   }
  },
  {
   "cell_type": "markdown",
   "source": [],
   "metadata": {
    "collapsed": false
   }
  },
  {
   "cell_type": "markdown",
   "source": [
    "Zad 2 b-e"
   ],
   "metadata": {
    "collapsed": false
   }
  },
  {
   "cell_type": "code",
   "execution_count": null,
   "outputs": [],
   "source": [
    "#2b\n",
    "maska = Image.new(\"L\", im1.size, 0)\n",
    "draw = ImageDraw.Draw(maska)\n",
    "draw.ellipse(box,fill=255)\n",
    "\n",
    "#2c\n",
    "im1_mask = im1.copy()\n",
    "im1_mask.paste(im2,(0,0),maska)\n",
    "\n",
    "im1_mask.save(\"im_maska.jpg\")\n",
    "im1_mask.show()\n",
    "\n",
    "#2d\n",
    "im2_mask = im2.copy()\n",
    "im2_mask.paste(im1,(0,0),maska)\n",
    "im2_mask.save(\"im_maska2.jpg\")\n",
    "im2_mask.show()\n",
    "\n",
    "#2e\n",
    "im1_alpha = im1.copy()\n",
    "im1_alpha.putalpha(maska)\n",
    "\n",
    "im1_alpha.save(\"im1_alpha.png\")\n",
    "im1_alpha.show()"
   ],
   "metadata": {
    "collapsed": false
   }
  }
 ],
 "metadata": {
  "kernelspec": {
   "display_name": "Python 3",
   "language": "python",
   "name": "python3"
  },
  "language_info": {
   "codemirror_mode": {
    "name": "ipython",
    "version": 2
   },
   "file_extension": ".py",
   "mimetype": "text/x-python",
   "name": "python",
   "nbconvert_exporter": "python",
   "pygments_lexer": "ipython2",
   "version": "2.7.6"
  }
 },
 "nbformat": 4,
 "nbformat_minor": 0
}
