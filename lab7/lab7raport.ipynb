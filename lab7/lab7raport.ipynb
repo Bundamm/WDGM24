{
 "cells": [
  {
   "cell_type": "code",
   "execution_count": null,
   "metadata": {
    "collapsed": true,
    "is_executing": true
   },
   "outputs": [],
   "source": [
    "from PIL import Image\n",
    "import numpy as np"
   ]
  },
  {
   "cell_type": "markdown",
   "source": [
    "Zad 1.1"
   ],
   "metadata": {
    "collapsed": false
   }
  },
  {
   "cell_type": "code",
   "execution_count": null,
   "outputs": [],
   "source": [
    "def rysuj_kwadrat_max(obraz, m, n, k):\n",
    "    obraz1 = obraz.copy()\n",
    "    pix = obraz.load()\n",
    "    pix1 = obraz1.load()\n",
    "    d = int(k / 2)  # Połowa długości boku\n",
    "    max_color = [0, 0, 0]  # Przechowuje maksymalne wartości RGB\n",
    "\n",
    "    # Znajdź maksymalne wartości RGB w kwadracie\n",
    "    for a in range(k):\n",
    "        for b in range(k):\n",
    "            x = m + a - d\n",
    "            y = n + b - d\n",
    "            if 0 <= x < obraz.width and 0 <= y < obraz.height:  # Sprawdzanie granic obrazu\n",
    "                pixel = pix[x, y]\n",
    "                max_color[0] = max(max_color[0], pixel[0])\n",
    "                max_color[1] = max(max_color[1], pixel[1])\n",
    "                max_color[2] = max(max_color[2], pixel[2])\n",
    "\n",
    "    # Wypełnij kwadrat maksymalną wartością\n",
    "    for a in range(k):\n",
    "        for b in range(k):\n",
    "            x = m + a - d\n",
    "            y = n + b - d\n",
    "            if 0 <= x < obraz.width and 0 <= y < obraz.height:\n",
    "                pix1[x, y] = tuple(max_color)\n",
    "\n",
    "    return obraz1\n",
    "\n",
    "im = Image.open('baby_yoda.jpg')\n",
    "im2 = im.copy()\n",
    "kmax = rysuj_kwadrat_max(im2, 60,170,25)\n",
    "kmax2 = rysuj_kwadrat_max(kmax, 120, 170 ,25)\n",
    "kmax3 = rysuj_kwadrat_max(kmax2, 180,170,25)\n",
    "kmax3"
   ],
   "metadata": {
    "collapsed": false
   }
  },
  {
   "cell_type": "markdown",
   "source": [
    "![obraz_pierwszy](obraz1.png)"
   ],
   "metadata": {
    "collapsed": false
   }
  },
  {
   "cell_type": "markdown",
   "source": [
    "Zad 1.2"
   ],
   "metadata": {
    "collapsed": false
   }
  },
  {
   "cell_type": "code",
   "execution_count": null,
   "outputs": [],
   "source": [
    "def rysuj_kwadrat_min(obraz, m, n, k):\n",
    "    obraz1 = obraz.copy()\n",
    "    pix = obraz.load()\n",
    "    pix1 = obraz1.load()\n",
    "    d = int(k / 2)  # Połowa długości boku\n",
    "    min_color = [255, 255, 255]  # Przechowuje minimalne wartości RGB (maksymalna początkowa wartość)\n",
    "\n",
    "    # Znajdź minimalne wartości RGB w kwadracie\n",
    "    for a in range(k):\n",
    "        for b in range(k):\n",
    "            x = m + a - d\n",
    "            y = n + b - d\n",
    "            if 0 <= x < obraz.width and 0 <= y < obraz.height:  # Sprawdzanie granic obrazu\n",
    "                pixel = pix[x, y]\n",
    "                min_color[0] = min(min_color[0], pixel[0])\n",
    "                min_color[1] = min(min_color[1], pixel[1])\n",
    "                min_color[2] = min(min_color[2], pixel[2])\n",
    "\n",
    "    # Wypełnij kwadrat minimalną wartością\n",
    "    for a in range(k):\n",
    "        for b in range(k):\n",
    "            x = m + a - d\n",
    "            y = n + b - d\n",
    "            if 0 <= x < obraz.width and 0 <= y < obraz.height:\n",
    "                pix1[x, y] = tuple(min_color)\n",
    "\n",
    "    return obraz1\n",
    "\n",
    "im3 = im.copy()\n",
    "kmin = rysuj_kwadrat_min(im3, 60,170,25)\n",
    "kmin2 = rysuj_kwadrat_min(kmin, 120, 170 ,25)\n",
    "kmin3 = rysuj_kwadrat_min(kmin2, 180,170,25)\n",
    "kmin3"
   ],
   "metadata": {
    "collapsed": false
   }
  },
  {
   "cell_type": "markdown",
   "source": [
    "![obraz_drugi](obraz2.png)"
   ],
   "metadata": {
    "collapsed": false
   }
  },
  {
   "cell_type": "markdown",
   "source": [
    "Zad 2"
   ],
   "metadata": {
    "collapsed": false
   }
  },
  {
   "cell_type": "code",
   "execution_count": null,
   "outputs": [],
   "source": [
    "def rysuj_kolo(obraz, m_s, n_s, r, m_docelowy, n_docelowy):\n",
    "    obraz1 = obraz.copy()  # Tworzymy kopię obrazu\n",
    "    w, h = obraz.size\n",
    "    pix = obraz.load()\n",
    "    pix1 = obraz1.load()\n",
    "\n",
    "    # Zbieramy piksele z obszaru koła\n",
    "    pixels_to_copy = []\n",
    "\n",
    "    for i in range(w):\n",
    "        for j in range(h):\n",
    "            if (i - m_s) ** 2 + (j - n_s) ** 2 < r ** 2:  # Piksel należy do oryginalnego koła\n",
    "                if 0 <= i < w and 0 <= j < h:  # Tylko piksele, które mieszczą się w obrazie\n",
    "                    pixels_to_copy.append((i - m_s, j - n_s, pix[i, j]))  # Zbieramy piksel i jego przesunięcie\n",
    "\n",
    "    # Wstawianie skopiowanych pikseli w nowe miejsce (m_docelowy, n_docelowy)\n",
    "    for dx, dy, color in pixels_to_copy:\n",
    "        new_x = m_docelowy + dx\n",
    "        new_y = n_docelowy + dy\n",
    "\n",
    "        # Przycinanie współrzędnych, żeby nie wyjść poza granice obrazu\n",
    "        if 0 <= new_x < w and 0 <= new_y < h:\n",
    "            pix1[new_x, new_y] = color  # Wstawiamy piksel w nowe miejsce\n",
    "\n",
    "    return obraz1\n",
    "\n",
    "im = Image.open(\"obraz.png\")\n",
    "imk = rysuj_kolo(im, 320, 180, 50, 100, 50)\n",
    "imk.save('obraz3.png')\n",
    "\n",
    "imk2 = rysuj_kolo(im, 320, 180, 50, 0, 180)\n",
    "imk3 = rysuj_kolo(imk2, 320, 180, 50, 400, 0)\n",
    "imk4 = rysuj_kolo(imk3, 320, 180, 50, 400, 340)\n",
    "imk5 = rysuj_kolo(imk4, 320, 180, 50, 600, 180)\n",
    "imk6 = rysuj_kolo(imk5, 320, 180, 50, 200, 0)\n",
    "imk7 = rysuj_kolo(imk6, 320, 180, 50, 200, 340)\n",
    "imk7"
   ],
   "metadata": {
    "collapsed": false
   }
  },
  {
   "cell_type": "markdown",
   "source": [
    "![obraz_trzeci](obraz3.png)"
   ],
   "metadata": {
    "collapsed": false
   }
  },
  {
   "cell_type": "markdown",
   "source": [
    "![obraz_czwarty](obraz4.png)"
   ],
   "metadata": {
    "collapsed": false
   }
  },
  {
   "cell_type": "markdown",
   "source": [
    "Zad 3"
   ],
   "metadata": {
    "collapsed": false
   }
  },
  {
   "cell_type": "code",
   "execution_count": null,
   "outputs": [],
   "source": [
    "def odbij_w_pionie(im):\n",
    "    px0 = im.load()\n",
    "    img = im.copy()\n",
    "    w, h = im.size\n",
    "    px = img.load()\n",
    "    for i in range(w):\n",
    "        for j in range(h):\n",
    "            px[i, j] = px0[w - 1- i, j]\n",
    "    return img\n",
    "imo = odbij_w_pionie(im)\n",
    "imo"
   ],
   "metadata": {
    "collapsed": false
   }
  },
  {
   "cell_type": "code",
   "execution_count": null,
   "outputs": [],
   "source": [
    "def odbij_w_pionie2(im):\n",
    "    px0 = im.load()\n",
    "    img = im.copy()\n",
    "    w, h = im.size\n",
    "    px = img.load()\n",
    "    for i in range(w):\n",
    "        for j in range(h):\n",
    "            px[i, j] = px0[w - 1- i, j]\n",
    "    return img\n",
    "imo = odbij_w_pionie2(im)\n",
    "imo"
   ],
   "metadata": {
    "collapsed": false
   }
  },
  {
   "cell_type": "markdown",
   "source": [
    "W oryginalnej funkcji odbij_w_pionie oryginalne piksele obrazu są przechowywane w zmiennej px0, a modyfikacja obrazu odbywa się na jego kopii, co zapewnia poprawne odwzorowanie odbicia w pionie. Zmodyfikowana wersja nie przechowuje oryginalnych pikseli oddzielnie, lecz modyfikuje piksele bezpośrednio w kopii obrazu. Z tego powodu zmiany dokonane w trakcie iteracji wpływają na wyniki przetwarzania kolejnych pikseli, prowadząc do odbicia po środku obrazu."
   ],
   "metadata": {
    "collapsed": false
   }
  }
 ],
 "metadata": {
  "kernelspec": {
   "display_name": "Python 3",
   "language": "python",
   "name": "python3"
  },
  "language_info": {
   "codemirror_mode": {
    "name": "ipython",
    "version": 2
   },
   "file_extension": ".py",
   "mimetype": "text/x-python",
   "name": "python",
   "nbconvert_exporter": "python",
   "pygments_lexer": "ipython2",
   "version": "2.7.6"
  }
 },
 "nbformat": 4,
 "nbformat_minor": 0
}
